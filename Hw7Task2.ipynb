{
 "cells": [
  {
   "cell_type": "code",
   "execution_count": 2,
   "metadata": {},
   "outputs": [],
   "source": [
    "import numpy as np\n",
    "import pandas as pd\n",
    "import statsmodels.api as sm\n",
    "import matplotlib.pyplot as plt\n",
    "from sklearn.linear_model import LinearRegression\n",
    "import seaborn as sns\n",
    "sns.set()"
   ]
  },
  {
   "cell_type": "code",
   "execution_count": 3,
   "metadata": {},
   "outputs": [
    {
     "data": {
      "text/html": [
       "<div>\n",
       "<style scoped>\n",
       "    .dataframe tbody tr th:only-of-type {\n",
       "        vertical-align: middle;\n",
       "    }\n",
       "\n",
       "    .dataframe tbody tr th {\n",
       "        vertical-align: top;\n",
       "    }\n",
       "\n",
       "    .dataframe thead th {\n",
       "        text-align: right;\n",
       "    }\n",
       "</style>\n",
       "<table border=\"1\" class=\"dataframe\">\n",
       "  <thead>\n",
       "    <tr style=\"text-align: right;\">\n",
       "      <th></th>\n",
       "      <th>x</th>\n",
       "      <th>y</th>\n",
       "    </tr>\n",
       "  </thead>\n",
       "  <tbody>\n",
       "    <tr>\n",
       "      <th>0</th>\n",
       "      <td>1.9</td>\n",
       "      <td>0.7</td>\n",
       "    </tr>\n",
       "    <tr>\n",
       "      <th>1</th>\n",
       "      <td>0.8</td>\n",
       "      <td>-1.0</td>\n",
       "    </tr>\n",
       "    <tr>\n",
       "      <th>2</th>\n",
       "      <td>1.1</td>\n",
       "      <td>-0.2</td>\n",
       "    </tr>\n",
       "    <tr>\n",
       "      <th>3</th>\n",
       "      <td>0.1</td>\n",
       "      <td>-1.2</td>\n",
       "    </tr>\n",
       "    <tr>\n",
       "      <th>4</th>\n",
       "      <td>-0.1</td>\n",
       "      <td>-0.1</td>\n",
       "    </tr>\n",
       "  </tbody>\n",
       "</table>\n",
       "</div>"
      ],
      "text/plain": [
       "     x    y\n",
       "0  1.9  0.7\n",
       "1  0.8 -1.0\n",
       "2  1.1 -0.2\n",
       "3  0.1 -1.2\n",
       "4 -0.1 -0.1"
      ]
     },
     "execution_count": 3,
     "metadata": {},
     "output_type": "execute_result"
    }
   ],
   "source": [
    "#Import\n",
    "raw_data = pd.read_csv(\"7Hw2.csv\")\n",
    "#Check\n",
    "raw_data.head()"
   ]
  },
  {
   "cell_type": "code",
   "execution_count": 35,
   "metadata": {},
   "outputs": [
    {
     "name": "stdout",
     "output_type": "stream",
     "text": [
      "Task2:a)\n",
      "B0:  -0.7861478340400762\n",
      "B1:  0.6850419888584018\n",
      "Sigma^2:  0.9376817161386877\n"
     ]
    }
   ],
   "source": [
    "data = raw_data.copy()\n",
    "x = data['x']\n",
    "y = data['y']\n",
    "#intercept - b0, slope - b1\n",
    "slope = np.sum((x - np.mean(x))*(y - np.mean(y)))/(np.sum((x-np.mean(x)) ** 2))\n",
    "intercept = np.mean(y) - slope*np.mean(x)\n",
    "n = 10\n",
    "sigma2 = 1/n * np.sum((y-intercept-slope*x)**2)\n",
    "print(\"Task2:a)\")\n",
    "print(\"B0: \", intercept)\n",
    "print(\"B1: \", slope)\n",
    "print(\"Sigma^2: \", sigma2)"
   ]
  },
  {
   "cell_type": "code",
   "execution_count": 36,
   "metadata": {},
   "outputs": [
    {
     "name": "stdout",
     "output_type": "stream",
     "text": [
      "Tas2:b)\n",
      "var_b0:  0.2504642332529585sigma^2\n",
      "var_b1:  0.02771541808708184sigma^2\n"
     ]
    }
   ],
   "source": [
    "std_x2 = np.sum((x - np.mean(x))**2)\n",
    "var_b0 = ((1/n) + np.mean(x)**2/std_x2)\n",
    "var_b1 = 1/std_x2\n",
    "print(\"Tas2:b)\")\n",
    "print(\"var_b0: \",str(var_b0)+\"sigma^2\")\n",
    "print(\"var_b1: \",str(var_b1)+\"sigma^2\")"
   ]
  },
  {
   "cell_type": "code",
   "execution_count": 38,
   "metadata": {},
   "outputs": [
    {
     "name": "stdout",
     "output_type": "stream",
     "text": [
      "-0.7750750908661258\n"
     ]
    }
   ],
   "source": [
    "cov_b0_b1 = - np.mean(x)*sigma2/std_x2\n",
    "cor_b0_b1 = cov_b0_b1/np.sqrt(var_b0*sigma2 * var_b1*sigma2)\n",
    "print(cor_b0_b1)"
   ]
  }
 ],
 "metadata": {
  "kernelspec": {
   "display_name": "Python 3",
   "language": "python",
   "name": "python3"
  },
  "language_info": {
   "codemirror_mode": {
    "name": "ipython",
    "version": 3
   },
   "file_extension": ".py",
   "mimetype": "text/x-python",
   "name": "python",
   "nbconvert_exporter": "python",
   "pygments_lexer": "ipython3",
   "version": "3.7.6"
  }
 },
 "nbformat": 4,
 "nbformat_minor": 4
}
